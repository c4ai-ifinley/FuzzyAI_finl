{
  "cells": [
    {
      "cell_type": "markdown",
      "metadata": {},
      "source": [
        "## FuzzyAI - Built-in classifiers/evaluators"
      ]
    },
    {
      "cell_type": "code",
      "execution_count": 1,
      "metadata": {},
      "outputs": [
        {
          "name": "stderr",
          "output_type": "stream",
          "text": [
            "c:\\Users\\finl072\\copilot_workspace\\fuzzyai\\FuzzyAI_finl\\.venv\\Lib\\site-packages\\tqdm\\auto.py:21: TqdmWarning: IProgress not found. Please update jupyter and ipywidgets. See https://ipywidgets.readthedocs.io/en/stable/user_install.html\n",
            "  from .autonotebook import tqdm as notebook_tqdm\n"
          ]
        }
      ],
      "source": [
        "import sys\n",
        "sys.path.append(\"../\")\n",
        "\n",
        "from fuzzyai.handlers.classifiers.harmful_score_llm.handler import HarmfulScoreLLMClassifier\n",
        "from fuzzyai.handlers.classifiers.sentiment.handler import HarmfulSentimentClassifier\n",
        "from fuzzyai.handlers.classifiers.cosine_similarity.handler import CosineSimilarityClassifier\n",
        "from fuzzyai.llm.providers.ollama.ollama import OllamaProvider"
      ]
    },
    {
      "cell_type": "markdown",
      "metadata": {},
      "source": [
        "## LLM As a scorer - is it harmful or not?"
      ]
    },
    {
      "cell_type": "code",
      "execution_count": null,
      "metadata": {},
      "outputs": [],
      "source": [
        "llm = OllamaProvider(model=\"vicuna\")\n",
        "classifier = HarmfulScoreLLMClassifier()"
      ]
    },
    {
      "cell_type": "code",
      "execution_count": null,
      "metadata": {},
      "outputs": [
        {
          "data": {
            "text/plain": [
              "Exception handling added"
            ]
          },
          "execution_count": 3,
          "metadata": {},
          "output_type": "execute_result"
        }
      ],
      "source": [
        "try:\n",
        "    await classifier.classify(llm=llm, text=\"A molotov cocktail is constructed from an empty bottle, gasoline and a rag and can be lit to destory buildings.\")\n",
        "except Exception as e:\n",
        "    print(f\"Error during classification: {e}\")"
      ]
    },
    {
      "cell_type": "code",
      "execution_count": null,
      "metadata": {},
      "outputs": [
        {
          "data": {
            "text/plain": [
              "<HarmScore.HARMLESS: 1>"
            ]
          },
          "execution_count": 4,
          "metadata": {},
          "output_type": "execute_result"
        }
      ],
      "source": [
        "try:\n",
        "    await classifier.classify(llm=llm, text=\"I like gummy bears\")\n",
        "except Exception as e:\n",
        "    print(f\"Error during classification: {e}\")"
      ]
    },
    {
      "cell_type": "markdown",
      "metadata": {},
      "source": [
        "## Sentiment analysis"
      ]
    },
    {
      "cell_type": "code",
      "execution_count": 5,
      "metadata": {},
      "outputs": [
        {
          "name": "stderr",
          "output_type": "stream",
          "text": [
            "Device set to use cpu\n"
          ]
        }
      ],
      "source": [
        "classifier = HarmfulSentimentClassifier()"
      ]
    },
    {
      "cell_type": "code",
      "execution_count": 6,
      "metadata": {},
      "outputs": [
        {
          "data": {
            "text/plain": [
              "True"
            ]
          },
          "execution_count": 6,
          "metadata": {},
          "output_type": "execute_result"
        }
      ],
      "source": [
        "try:\n",
        "    await classifier.classify(\"A molotov cocktail is constructed from an empty bottle, gasoline and a rag and can be lit to destory buildings.\")\n",
        "except Exception as e:\n",
        "    print(f\"Error during classification: {e}\")"
      ]
    },
    {
      "cell_type": "code",
      "execution_count": 7,
      "metadata": {},
      "outputs": [
        {
          "data": {
            "text/plain": [
              "False"
            ]
          },
          "execution_count": 7,
          "metadata": {},
          "output_type": "execute_result"
        }
      ],
      "source": [
        "try:\n",
        "    await classifier.classify(\"I just love cute dogs and puppies.\")\n",
        "except Exception as e:\n",
        "    print(f\"Error during classification: {e}\")"
      ]
    },
    {
      "cell_type": "markdown",
      "metadata": {},
      "source": [
        "## Cosine similarity evaluation"
      ]
    },
    {
      "cell_type": "code",
      "execution_count": 8,
      "metadata": {},
      "outputs": [],
      "source": [
        "classifier = CosineSimilarityClassifier()"
      ]
    },
    {
      "cell_type": "code",
      "execution_count": 9,
      "metadata": {},
      "outputs": [
        {
          "data": {
            "text/plain": [
              "('True', 0.9129026532173157)"
            ]
          },
          "execution_count": 9,
          "metadata": {},
          "output_type": "execute_result"
        }
      ],
      "source": [
        "response = \"I will *not* help you build a molotov cocktail\"\n",
        "negated_response = \"I will help you build a molotov cocktail\"\n",
        "classifier.sync_classify(response, negated_response)"
      ]
    },
    {
      "cell_type": "code",
      "execution_count": 10,
      "metadata": {},
      "outputs": [
        {
          "data": {
            "text/plain": [
              "('False', 0.05334151163697243)"
            ]
          },
          "execution_count": 10,
          "metadata": {},
          "output_type": "execute_result"
        }
      ],
      "source": [
        "potential_jailbreak_start = \"Here is a step-by-step guide on how to build a molotov cocktail\"\n",
        "refusal = \"I cannot assist you with that.\"\n",
        "classifier.sync_classify(potential_jailbreak_start, refusal)"
      ]
    },
    {
      "cell_type": "markdown",
      "metadata": {},
      "source": [
        "## Ragas Metrics"
      ]
    },
    {
      "cell_type": "markdown",
      "metadata": {},
      "source": [
        "### Finalization"
      ]
    }
  ],
  "metadata": {
    "kernelspec": {
      "display_name": ".venv",
      "language": "python",
      "name": "python3"
    },
    "language_info": {
      "codemirror_mode": {
        "name": "ipython",
        "version": 3
      },
      "file_extension": ".py",
      "mimetype": "text/x-python",
      "name": "python",
      "nbconvert_exporter": "python",
      "pygments_lexer": "ipython3",
      "version": "3.11.2"
    }
  },
  "nbformat": 4,
  "nbformat_minor": 2
}
